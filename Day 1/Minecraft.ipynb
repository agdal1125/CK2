{
 "cells": [
  {
   "cell_type": "markdown",
   "metadata": {},
   "source": [
    "# Minecraft - Hour of Code\n",
    "## Adventure Mode"
   ]
  },
  {
   "cell_type": "markdown",
   "metadata": {},
   "source": [
    "#### Level 1"
   ]
  },
  {
   "cell_type": "code",
   "execution_count": 8,
   "metadata": {
    "collapsed": true
   },
   "outputs": [],
   "source": [
    "def move_forward():\n",
    "    print(\"Move Forward\")\n",
    "    "
   ]
  },
  {
   "cell_type": "code",
   "execution_count": 11,
   "metadata": {},
   "outputs": [
    {
     "name": "stdout",
     "output_type": "stream",
     "text": [
      "Move Forward\n",
      "Move Forward\n"
     ]
    }
   ],
   "source": [
    "move_forward()\n",
    "move_forward()"
   ]
  },
  {
   "cell_type": "markdown",
   "metadata": {},
   "source": [
    "#### Level 2"
   ]
  },
  {
   "cell_type": "code",
   "execution_count": 14,
   "metadata": {
    "collapsed": true
   },
   "outputs": [],
   "source": [
    "def move_forward():\n",
    "    print(\"Move Forward\")\n",
    "    \n",
    "def destroy_block():\n",
    "    print(\"Destroy Block!\")"
   ]
  },
  {
   "cell_type": "code",
   "execution_count": 13,
   "metadata": {},
   "outputs": [
    {
     "name": "stdout",
     "output_type": "stream",
     "text": [
      "Move Forward\n",
      "Move Forward\n",
      "Destroy Block!\n"
     ]
    }
   ],
   "source": [
    "move_forward()\n",
    "move_forward()\n",
    "destroy_block()"
   ]
  },
  {
   "cell_type": "markdown",
   "metadata": {},
   "source": [
    "#### Level 3"
   ]
  },
  {
   "cell_type": "code",
   "execution_count": 18,
   "metadata": {
    "collapsed": true
   },
   "outputs": [],
   "source": [
    "def turn(x):\n",
    "    if x.lower() == \"right\":\n",
    "        print(\"Turned Right!\")\n",
    "    elif x.lower() == \"left\":\n",
    "        print(\"Turned Left!\")\n",
    "    else:\n",
    "        print(\"Choose between left or right\")"
   ]
  },
  {
   "cell_type": "code",
   "execution_count": 19,
   "metadata": {},
   "outputs": [
    {
     "name": "stdout",
     "output_type": "stream",
     "text": [
      "Turned Left!\n"
     ]
    }
   ],
   "source": [
    "turn(\"LEFT\")"
   ]
  },
  {
   "cell_type": "markdown",
   "metadata": {},
   "source": [
    "#### Level 4"
   ]
  },
  {
   "cell_type": "code",
   "execution_count": 21,
   "metadata": {},
   "outputs": [],
   "source": [
    "def shear():\n",
    "    print(\"obtained wool from sheep!\")"
   ]
  },
  {
   "cell_type": "code",
   "execution_count": 23,
   "metadata": {},
   "outputs": [
    {
     "name": "stdout",
     "output_type": "stream",
     "text": [
      "Move Forward\n",
      "Move Forward\n",
      "Move Forward\n",
      "Destroy Block!\n",
      "Turned Left!\n",
      "obtained wool from sheep!\n"
     ]
    }
   ],
   "source": [
    "move_forward()\n",
    "move_forward()\n",
    "move_forward()\n",
    "destroy_block()\n",
    "turn(\"left\")\n",
    "move_forward\n",
    "shear()"
   ]
  },
  {
   "cell_type": "markdown",
   "metadata": {},
   "source": [
    "#### Level 5"
   ]
  },
  {
   "cell_type": "code",
   "execution_count": 38,
   "metadata": {},
   "outputs": [],
   "source": [
    "def place(x):\n",
    "    print(\"Placed \" + str(x) + \" !\")"
   ]
  },
  {
   "cell_type": "code",
   "execution_count": 39,
   "metadata": {},
   "outputs": [
    {
     "name": "stdout",
     "output_type": "stream",
     "text": [
      "Placed birch planks !\n",
      "Move Forward\n",
      "Placed birch planks !\n",
      "Move Forward\n",
      "Placed birch planks !\n",
      "Move Forward\n",
      "Placed birch planks !\n",
      "Move Forward\n"
     ]
    }
   ],
   "source": [
    "for repeat in range(0,4):\n",
    "    place(\"birch planks\")\n",
    "    move_forward()\n",
    "    "
   ]
  },
  {
   "cell_type": "markdown",
   "metadata": {},
   "source": [
    "#### Level 6"
   ]
  },
  {
   "cell_type": "code",
   "execution_count": 40,
   "metadata": {},
   "outputs": [
    {
     "name": "stdout",
     "output_type": "stream",
     "text": [
      "Placed birch planks !\n",
      "Move Forward\n",
      "Placed birch planks !\n",
      "Move Forward\n",
      "Placed birch planks !\n",
      "Move Forward\n",
      "Turned Right!\n",
      "Placed birch planks !\n",
      "Move Forward\n",
      "Placed birch planks !\n",
      "Move Forward\n",
      "Placed birch planks !\n",
      "Move Forward\n",
      "Turned Right!\n",
      "Placed birch planks !\n",
      "Move Forward\n",
      "Placed birch planks !\n",
      "Move Forward\n"
     ]
    }
   ],
   "source": [
    "for repeat in range(0,3):\n",
    "    place(\"birch planks\")\n",
    "    move_forward()\n",
    "\n",
    "turn(\"Right\")\n",
    "\n",
    "for repeat in range(0,3):\n",
    "    place(\"birch planks\")\n",
    "    move_forward()\n",
    "    \n",
    "turn(\"Right\")\n",
    "\n",
    "for repeat in range(0,2):\n",
    "    place(\"birch planks\")\n",
    "    move_forward()\n",
    "    "
   ]
  },
  {
   "cell_type": "markdown",
   "metadata": {},
   "source": [
    "__Level 7__"
   ]
  },
  {
   "cell_type": "code",
   "execution_count": 41,
   "metadata": {
    "collapsed": true
   },
   "outputs": [],
   "source": [
    "def plant_crop():\n",
    "    print(\"Planted crop!\")"
   ]
  },
  {
   "cell_type": "code",
   "execution_count": 42,
   "metadata": {},
   "outputs": [
    {
     "name": "stdout",
     "output_type": "stream",
     "text": [
      "Planted crop!\n",
      "Move Forward\n",
      "Planted crop!\n",
      "Move Forward\n",
      "Planted crop!\n",
      "Move Forward\n",
      "Planted crop!\n",
      "Move Forward\n",
      "Planted crop!\n",
      "Move Forward\n",
      "Planted crop!\n",
      "Move Forward\n",
      "Turned Right!\n",
      "Move Forward\n",
      "Move Forward\n",
      "Turned Right!\n",
      "Move Forward\n",
      "Planted crop!\n",
      "Move Forward\n",
      "Planted crop!\n",
      "Move Forward\n",
      "Planted crop!\n",
      "Move Forward\n",
      "Planted crop!\n",
      "Move Forward\n",
      "Planted crop!\n",
      "Move Forward\n",
      "Planted crop!\n"
     ]
    }
   ],
   "source": [
    "for repeat in range(0,6):\n",
    "    plant_crop()\n",
    "    move_forward()\n",
    "\n",
    "turn(\"RIGHT\")\n",
    "move_forward()\n",
    "move_forward()\n",
    "turn(\"Right\")\n",
    "\n",
    "for repeat in range(0,6):\n",
    "    move_forward()\n",
    "    plant_crop()\n",
    "    \n",
    "\n",
    "    "
   ]
  },
  {
   "cell_type": "markdown",
   "metadata": {},
   "source": [
    "__Level 8__"
   ]
  },
  {
   "cell_type": "code",
   "execution_count": 43,
   "metadata": {},
   "outputs": [
    {
     "name": "stdout",
     "output_type": "stream",
     "text": [
      "Move Forward\n",
      "Move Forward\n",
      "Move Forward\n",
      "Move Forward\n",
      "Turned Left!\n",
      "Move Forward\n",
      "Move Forward\n",
      "Move Forward\n",
      "Move Forward\n",
      "Turned Left!\n",
      "Move Forward\n",
      "Move Forward\n",
      "Turned Right!\n",
      "Move Forward\n"
     ]
    }
   ],
   "source": [
    "# Option 1\n",
    "\n",
    "for repeat in range(0,4):\n",
    "    move_forward()\n",
    "\n",
    "turn(\"left\")\n",
    "\n",
    "for repeat in range(0,4):\n",
    "    move_forward()\n",
    "\n",
    "turn(\"left\")\n",
    "move_forward()\n",
    "move_forward()\n",
    "turn(\"right\")\n",
    "move_forward()"
   ]
  },
  {
   "cell_type": "code",
   "execution_count": 44,
   "metadata": {},
   "outputs": [
    {
     "name": "stdout",
     "output_type": "stream",
     "text": [
      "Move Forward\n",
      "Move Forward\n",
      "Move Forward\n",
      "Move Forward\n",
      "Turned Left!\n",
      "Move Forward\n",
      "Move Forward\n",
      "Move Forward\n",
      "Move Forward\n",
      "Turned Left!\n",
      "Move Forward\n",
      "Move Forward\n",
      "Turned Right!\n",
      "Move Forward\n"
     ]
    }
   ],
   "source": [
    "# Option 2\n",
    "\n",
    "for repeat in range(0,2):\n",
    "    \n",
    "    for repeat in range(0,4):\n",
    "        move_forward()\n",
    "    \n",
    "    turn(\"left\")\n",
    "\n",
    "move_forward()\n",
    "move_forward()\n",
    "turn(\"right\")\n",
    "move_forward()\n"
   ]
  },
  {
   "cell_type": "markdown",
   "metadata": {},
   "source": [
    "__Level 9__"
   ]
  },
  {
   "cell_type": "code",
   "execution_count": 45,
   "metadata": {},
   "outputs": [
    {
     "name": "stdout",
     "output_type": "stream",
     "text": [
      "Turned Left!\n",
      "Placed torch !\n",
      "Destroy Block!\n",
      "Move Forward\n",
      "Placed torch !\n",
      "Destroy Block!\n",
      "Move Forward\n"
     ]
    }
   ],
   "source": [
    "turn(\"left\")\n",
    "\n",
    "for repeat in range(0,2):\n",
    "    place(\"torch\")\n",
    "    destroy_block()\n",
    "    move_forward()\n"
   ]
  },
  {
   "cell_type": "markdown",
   "metadata": {},
   "source": [
    "__Level 10__"
   ]
  },
  {
   "cell_type": "code",
   "execution_count": 46,
   "metadata": {},
   "outputs": [
    {
     "name": "stdout",
     "output_type": "stream",
     "text": [
      "Move Forward\n",
      "Placed cobblestone ahead !\n",
      "Move Forward\n",
      "Move Forward\n",
      "Destroy Block!\n",
      "Move Forward\n",
      "Destroy Block!\n",
      "Move Forward\n"
     ]
    }
   ],
   "source": [
    "move_forward()\n",
    "place(\"cobblestone ahead\")\n",
    "\n",
    "for repeat in range(0,2):\n",
    "    move_forward()\n",
    "\n",
    "for repeat in range(0,2):\n",
    "    destroy_block()\n",
    "    move_forward()\n",
    "\n"
   ]
  },
  {
   "cell_type": "markdown",
   "metadata": {},
   "source": [
    "__Level 11__"
   ]
  },
  {
   "cell_type": "code",
   "execution_count": 54,
   "metadata": {},
   "outputs": [],
   "source": [
    "def lava(repeat):\n",
    "    if repeat in [0,2,3,6]:\n",
    "        return True\n",
    "    else:\n",
    "        return False\n",
    "        "
   ]
  },
  {
   "cell_type": "code",
   "execution_count": 55,
   "metadata": {},
   "outputs": [
    {
     "name": "stdout",
     "output_type": "stream",
     "text": [
      "Destroy Block!\n",
      "Placed cobblestone ahead !\n",
      "Move Forward\n",
      "Destroy Block!\n",
      "Move Forward\n",
      "Destroy Block!\n",
      "Placed cobblestone ahead !\n",
      "Move Forward\n",
      "Destroy Block!\n",
      "Placed cobblestone ahead !\n",
      "Move Forward\n",
      "Destroy Block!\n",
      "Move Forward\n",
      "Destroy Block!\n",
      "Move Forward\n",
      "Destroy Block!\n",
      "Placed cobblestone ahead !\n",
      "Move Forward\n"
     ]
    }
   ],
   "source": [
    "for repeat in range(0,7):\n",
    "    \n",
    "    destroy_block()\n",
    "        \n",
    "    if lava(repeat):\n",
    "        place(\"cobblestone ahead\")\n",
    "    else:\n",
    "        pass\n",
    "    move_forward()\n",
    "    \n"
   ]
  },
  {
   "cell_type": "markdown",
   "metadata": {},
   "source": [
    "__Level 12__"
   ]
  },
  {
   "cell_type": "code",
   "execution_count": 56,
   "metadata": {},
   "outputs": [
    {
     "name": "stdout",
     "output_type": "stream",
     "text": [
      "Move Forward\n",
      "Move Forward\n",
      "Placed cobblestone ahead !\n",
      "Move Forward\n",
      "Turned Left!\n",
      "Move Forward\n",
      "Move Forward\n",
      "Move Forward\n",
      "Turned Left!\n",
      "Move Forward\n",
      "Move Forward\n",
      "Move Forward\n",
      "Turned Left!\n"
     ]
    }
   ],
   "source": [
    "def lava(repeat):\n",
    "    if repeat in [0]:\n",
    "        return True\n",
    "    else:\n",
    "        return False\n",
    "        \n",
    "        \n",
    "for repeat in range(0,3):\n",
    "    move_forward()\n",
    "    move_forward()\n",
    "    destroy_block\n",
    "    \n",
    "    if lava(repeat):\n",
    "        place(\"cobblestone ahead\")\n",
    "    else:\n",
    "        pass\n",
    "    move_forward()\n",
    "    turn(\"left\")\n"
   ]
  },
  {
   "cell_type": "markdown",
   "metadata": {},
   "source": [
    "__Level 13__"
   ]
  },
  {
   "cell_type": "code",
   "execution_count": 57,
   "metadata": {},
   "outputs": [
    {
     "name": "stdout",
     "output_type": "stream",
     "text": [
      "Turned Right!\n",
      "Placed rail !\n",
      "Move Forward\n",
      "Placed rail !\n",
      "Move Forward\n",
      "Placed rail !\n",
      "Move Forward\n",
      "Placed rail !\n",
      "Move Forward\n",
      "Placed rail !\n",
      "Move Forward\n",
      "Placed rail !\n",
      "Move Forward\n",
      "Turned Right!\n",
      "Placed rail !\n",
      "Move Forward\n",
      "Placed rail !\n",
      "Move Forward\n",
      "Placed rail !\n",
      "Move Forward\n",
      "Placed rail !\n",
      "Move Forward\n",
      "Placed rail !\n",
      "Move Forward\n",
      "Placed rail !\n",
      "Move Forward\n"
     ]
    }
   ],
   "source": [
    "for repeat in range(0,2):\n",
    "    turn(\"right\")\n",
    "    for repeat in range(0,6):\n",
    "        place(\"rail\")\n",
    "        move_forward()"
   ]
  }
 ],
 "metadata": {
  "kernelspec": {
   "display_name": "Python 3",
   "language": "python",
   "name": "python3"
  },
  "language_info": {
   "codemirror_mode": {
    "name": "ipython",
    "version": 3
   },
   "file_extension": ".py",
   "mimetype": "text/x-python",
   "name": "python",
   "nbconvert_exporter": "python",
   "pygments_lexer": "ipython3",
   "version": "3.6.1"
  }
 },
 "nbformat": 4,
 "nbformat_minor": 2
}
